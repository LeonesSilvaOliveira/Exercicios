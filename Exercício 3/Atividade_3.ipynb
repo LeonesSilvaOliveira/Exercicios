{
  "nbformat": 4,
  "nbformat_minor": 0,
  "metadata": {
    "colab": {
      "provenance": []
    },
    "kernelspec": {
      "name": "python3",
      "display_name": "Python 3"
    },
    "language_info": {
      "name": "python"
    }
  },
  "cells": [
    {
      "cell_type": "code",
      "source": [
        "# Importar bibliotecas necessárias\n",
        "from flask import Flask, request, jsonify\n",
        "from werkzeug.serving import make_server\n",
        "import threading\n",
        "import requests\n",
        "import time\n",
        "\n",
        "# Definindo a aplicação Flask\n",
        "app = Flask(__name__)\n",
        "\n",
        "# Endpoint para somar dois números\n",
        "@app.route(\"/soma\", methods=[\"POST\"])\n",
        "def somar():\n",
        "    dados = request.get_json()  # Obter os dados JSON da requisição\n",
        "    numero1 = dados.get(\"numero1\", 0)\n",
        "    numero2 = dados.get(\"numero2\", 0)\n",
        "    resultado = numero1 + numero2\n",
        "    return jsonify({\"resultado\": resultado})  # Retornar o resultado em formato JSON\n",
        "\n",
        "# Classe para rodar o servidor Flask em uma thread separada\n",
        "class ThreadedServer(threading.Thread):\n",
        "    def __init__(self, app):\n",
        "        threading.Thread.__init__(self)\n",
        "        self.srv = make_server(\"127.0.0.1\", 5000, app)\n",
        "        self.ctx = app.app_context()\n",
        "        self.ctx.push()\n",
        "\n",
        "    def run(self):\n",
        "        print(\"Servidor Flask iniciado...\")\n",
        "        self.srv.serve_forever()\n",
        "\n",
        "    def shutdown(self):\n",
        "        self.srv.shutdown()\n",
        "\n",
        "# Iniciar o servidor Flask em uma thread separada\n",
        "servidor = ThreadedServer(app)\n",
        "servidor.start()\n",
        "\n",
        "# Aguardar um pouco para garantir que o servidor esteja rodando\n",
        "time.sleep(2)\n",
        "\n",
        "# Enviar uma requisição de teste para o endpoint \"/soma\"\n",
        "dados = {\"numero1\": 5, \"numero2\": 7}\n",
        "resposta = requests.post(\"http://127.0.0.1:5000/soma\", json=dados)\n",
        "\n",
        "# Exibir o resultado\n",
        "if resposta.status_code == 200:\n",
        "    print(\"Resultado da soma:\", resposta.json()[\"resultado\"])\n",
        "else:\n",
        "    print(\"Erro na requisição:\", resposta.status_code)\n",
        "\n",
        "# Encerrar o servidor ao final\n",
        "servidor.shutdown()\n"
      ],
      "metadata": {
        "id": "8Nj-duD-CHbT",
        "colab": {
          "base_uri": "https://localhost:8080/"
        },
        "outputId": "e7bd4f44-5793-4e85-d41d-3540f78085fa"
      },
      "execution_count": 1,
      "outputs": [
        {
          "output_type": "stream",
          "name": "stdout",
          "text": [
            "Servidor Flask iniciado...\n"
          ]
        },
        {
          "output_type": "stream",
          "name": "stderr",
          "text": [
            "INFO:werkzeug:127.0.0.1 - - [05/Dec/2024 18:17:28] \"POST /soma HTTP/1.1\" 200 -\n"
          ]
        },
        {
          "output_type": "stream",
          "name": "stdout",
          "text": [
            "Resultado da soma: 12\n"
          ]
        }
      ]
    },
    {
      "cell_type": "code",
      "source": [
        "# Instalar bibliotecas necessárias:\n",
        "# !pip install fastapi uvicorn requests\n",
        "\n",
        "# Importar bibliotecas necessárias\n",
        "from fastapi import FastAPI\n",
        "from pydantic import BaseModel\n",
        "from threading import Thread\n",
        "import requests\n",
        "import time\n",
        "import uvicorn\n",
        "\n",
        "# Definindo a aplicação FastAPI\n",
        "app = FastAPI()\n",
        "\n",
        "# Classe para validação dos dados\n",
        "class Numeros(BaseModel):\n",
        "    numero1: float\n",
        "    numero2: float\n",
        "\n",
        "# Endpoint para multiplicar dois números\n",
        "@app.post(\"/multiplicacao\")\n",
        "def multiplicar(numeros: Numeros):\n",
        "    resultado = numeros.numero1 * numeros.numero2\n",
        "    return {\"resultado\": resultado}\n",
        "\n",
        "# Função para rodar o servidor FastAPI em segundo plano\n",
        "def iniciar_servidor():\n",
        "    config = uvicorn.Config(app, host=\"127.0.0.1\", port=8000, log_level=\"info\")\n",
        "    server = uvicorn.Server(config)\n",
        "    server.run()\n",
        "\n",
        "# Iniciar o servidor FastAPI em uma thread separada\n",
        "thread = Thread(target=iniciar_servidor)\n",
        "thread.start()\n",
        "\n",
        "# Aguardar um pouco para garantir que o servidor esteja rodando\n",
        "time.sleep(2)\n",
        "\n",
        "# Enviar uma requisição de teste para o endpoint '/multiplicacao'\n",
        "dados = {\"numero1\": 4, \"numero2\": 2}\n",
        "resposta = requests.post(\"http://127.0.0.1:8000/multiplicacao\", json=dados)\n",
        "\n",
        "# Exibir o resultado\n",
        "if resposta.status_code == 200:\n",
        "    print(\"Resultado da multiplicação:\", resposta.json()[\"resultado\"])\n",
        "else:\n",
        "    print(\"Erro na requisição:\", resposta.status_code)\n"
      ],
      "metadata": {
        "colab": {
          "base_uri": "https://localhost:8080/"
        },
        "id": "yyb4DOnJC1So",
        "outputId": "92a69416-a1f1-42a7-be92-07b51a789619"
      },
      "execution_count": 5,
      "outputs": [
        {
          "output_type": "stream",
          "name": "stderr",
          "text": [
            "INFO:     Started server process [246]\n",
            "INFO:     Waiting for application startup.\n",
            "INFO:     Application startup complete.\n",
            "ERROR:    [Errno 98] error while attempting to bind on address ('127.0.0.1', 8000): address already in use\n",
            "INFO:     Waiting for application shutdown.\n",
            "INFO:     Application shutdown complete.\n"
          ]
        },
        {
          "output_type": "stream",
          "name": "stdout",
          "text": [
            "INFO:     127.0.0.1:41508 - \"POST /multiplicacao HTTP/1.1\" 200 OK\n",
            "Resultado da multiplicação: 8.0\n"
          ]
        }
      ]
    }
  ]
}